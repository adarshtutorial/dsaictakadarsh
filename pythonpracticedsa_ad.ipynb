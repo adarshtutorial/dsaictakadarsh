{
 "cells": [
  {
   "cell_type": "code",
   "execution_count": 11,
   "id": "0b58b296-2282-4c12-a305-1a47fb7c335a",
   "metadata": {
    "tags": []
   },
   "outputs": [
    {
     "name": "stdin",
     "output_type": "stream",
     "text": [
      "Please enter the radius of the given circle:  3\n"
     ]
    },
    {
     "name": "stdout",
     "output_type": "stream",
     "text": [
      " The area of the given circle with radius 3.0 is: 28.274333882308138\n"
     ]
    }
   ],
   "source": [
    "#1Python program which accepts the radius of a circle from the user and compute the area.\n",
    "import math \n",
    "Radius = float (input (\"Please enter the radius of the given circle: \"))  \n",
    "area_of_the_circle = math.pi* Radius * Radius  \n",
    "print (\" The area of the given circle with radius \" + str(Radius) + \" is:\", area_of_the_circle)  \n",
    "\n"
   ]
  },
  {
   "cell_type": "code",
   "execution_count": 4,
   "id": "f43e7fa7-11de-48c0-a222-0b1de04ea9dc",
   "metadata": {
    "tags": []
   },
   "outputs": [
    {
     "name": "stdout",
     "output_type": "stream",
     "text": [
      "Enter the nameAdarsh\n",
      "Enter the roll number1\n",
      "Enter the mark49\n",
      "Name:Adarsh\n",
      "Roll no:1\n",
      "Mark:49\n"
     ]
    }
   ],
   "source": [
    "#2Python Program to accept the details of a student like name, rollnumber and mark and display it.\n",
    "name=input(\"Enter the name\")\n",
    "rno=int(input(\"Enter the roll number\"))\n",
    "mark=int(input(\"Enter the mark\"))\n",
    "print(\"Name:\"+str(name))\n",
    "#print(\"\\n\")\n",
    "print(\"Roll no:\"+str(rno))\n",
    "#print(\"\\n\")\n",
    "print(\"Mark:\"+str(mark))\n",
    "\n",
    "\n"
   ]
  },
  {
   "cell_type": "code",
   "execution_count": 8,
   "id": "541452e0-8955-4059-990c-8abe65c8d276",
   "metadata": {},
   "outputs": [
    {
     "name": "stdout",
     "output_type": "stream",
     "text": [
      "Enter element of list 12\n",
      "Enter element of list 3\n",
      "Enter element of list 47\n",
      "Enter element of list 10\n",
      "47  is the largest number\n"
     ]
    }
   ],
   "source": [
    "#Python program to get the largest number from a list\n",
    "li=[]\n",
    "cnt=4\n",
    "for i in range(0,4):\n",
    "    e=int(input(\"Enter element of list \"))\n",
    "    li.append(e)\n",
    "li.sort()\n",
    "print(li[-1],\" is the largest number\")"
   ]
  },
  {
   "cell_type": "code",
   "execution_count": 11,
   "id": "8bb2e125-ab9d-4616-bd71-a2a70d11aec7",
   "metadata": {},
   "outputs": [
    {
     "name": "stdout",
     "output_type": "stream",
     "text": [
      "enter the range 10\n",
      "Current Number 0 Previous Number 0 Sum:0\n",
      "Current Number 1 Previous Number 0 Sum:1\n",
      "Current Number 2 Previous Number 1 Sum:3\n",
      "Current Number 3 Previous Number 2 Sum:5\n",
      "Current Number 4 Previous Number 3 Sum:7\n",
      "Current Number 5 Previous Number 4 Sum:9\n",
      "Current Number 6 Previous Number 5 Sum:11\n",
      "Current Number 7 Previous Number 6 Sum:13\n",
      "Current Number 8 Previous Number 7 Sum:15\n",
      "Current Number 9 Previous Number 8 Sum:17\n"
     ]
    }
   ],
   "source": [
    "#Python program to iterate from start number to the end number and print the sum of the current number and previous number.\n",
    "num=int(input(\"enter the range \"))\n",
    "previous_num=0\n",
    "for i in range(num):\n",
    "    sum = previous_num + i\n",
    "    print(\"Current Number \"+str(i)+\" Previous Number \"+str(previous_num)+\" Sum:\"+str(sum))\n",
    "    previous_num = i\n"
   ]
  },
  {
   "cell_type": "code",
   "execution_count": 15,
   "id": "84a14dd6",
   "metadata": {},
   "outputs": [
    {
     "name": "stdout",
     "output_type": "stream",
     "text": [
      "Enter element of list 10\n",
      "Enter element of list 20\n",
      "Enter element of list 33\n",
      "Enter element of list 46\n",
      "Enter element of list 55\n",
      "[10, 20, 33, 46, 55]\n",
      "[10, 20, 55]\n"
     ]
    }
   ],
   "source": [
    "#Python program to print only those numbers which are divisible of 5.\n",
    "li=[]\n",
    "inputli=[]\n",
    "cnt=5\n",
    "for i in range(0,cnt):\n",
    "    e=int(input(\"Enter element of list \"))\n",
    "    inputli.append(e)\n",
    "    if (e%5==0):\n",
    "        li.append(e)\n",
    "\n",
    "print(inputli)\n",
    "print(li)\n"
   ]
  },
  {
   "cell_type": "code",
   "execution_count": 20,
   "id": "efc5055c",
   "metadata": {},
   "outputs": [
    {
     "name": "stdout",
     "output_type": "stream",
     "text": [
      "Enter a number: 3\n",
      "3 is a prime number\n"
     ]
    }
   ],
   "source": [
    "#Python program to check whether a number is prime or not.\n",
    "num = int(input(\"Enter a number: \"))\n",
    "\n",
    "\n",
    "flag = False\n",
    "\n",
    "if num == 1:\n",
    "    print(num, \"is not a prime number\")\n",
    "elif num > 1:\n",
    "    for i in range(2, num):\n",
    "        if (num % i) == 0:\n",
    "            flag = True\n",
    "            break\n",
    "\n",
    "    if flag:\n",
    "        print(num, \"is not a prime number\")\n",
    "    else:\n",
    "        print(num, \"is a prime number\")"
   ]
  },
  {
   "cell_type": "code",
   "execution_count": 28,
   "id": "5a4a4676",
   "metadata": {},
   "outputs": [
    {
     "name": "stdout",
     "output_type": "stream",
     "text": [
      "Enter element of list 10\n",
      "Enter element of list 40\n",
      "Enter element of list 30\n",
      "Enter element of list 70\n",
      "Sample Input : [10, 40, 30, 70]\n",
      "Sample Output :  [70, 30, 40, 10]\n"
     ]
    }
   ],
   "source": [
    "#Python program to reverse a list using for loop.\n",
    "origli=[]\n",
    "cnt=4\n",
    "for i in range(0,4):\n",
    "    e=int(input(\"Enter element of list \"))\n",
    "    origli.append(e)\n",
    "\n",
    "print(\"Sample Input :\",origli)\n",
    "reversed_list = []\n",
    "for value in origli:\n",
    "  reversed_list.insert(0,value)\n",
    "print(\"Sample Output : \", reversed_list )"
   ]
  },
  {
   "cell_type": "code",
   "execution_count": 42,
   "id": "86e788cc",
   "metadata": {},
   "outputs": [
    {
     "name": "stdout",
     "output_type": "stream",
     "text": [
      "Enter the number of rows4\n",
      "*\n",
      "**\n",
      "***\n",
      "****\n"
     ]
    }
   ],
   "source": [
    "#Python program to print the following pattern\n",
    "\n",
    "n = int(input(\"Enter the number of rows\"))\n",
    "for i in range(0,n):\n",
    "      for j in range(0, i + 1):   \n",
    "            print(\"*\", end=\"\")       \n",
    "      print()  \n",
    "    \n"
   ]
  },
  {
   "cell_type": "code",
   "execution_count": 44,
   "id": "d9c76e77",
   "metadata": {},
   "outputs": [
    {
     "name": "stdout",
     "output_type": "stream",
     "text": [
      "Enter number1: 34\n",
      "Enter number2: 12\n",
      "Enter number3: 7\n",
      "Sample input : [34.0, 12.0, 7.0]\n",
      "Largest is :  34.0\n"
     ]
    }
   ],
   "source": [
    "#Python program to find the maximum of three numbers\n",
    "num1 = float(input(\"Enter number1: \"))\n",
    "num2 = float(input(\"Enter number2: \"))\n",
    "num3 = float(input(\"Enter number3: \"))\n",
    "\n",
    "li=[num1,num2,num3]\n",
    "print('Sample input :',li)\n",
    "if (num1 >= num2) and (num1 >= num3):\n",
    "   largest = num1\n",
    "elif (num2 >= num1) and (num2 >= num3):\n",
    "   largest = num2\n",
    "else:\n",
    "   largest = num3\n",
    "\n",
    "print(\"Largest is : \", largest)\n"
   ]
  },
  {
   "cell_type": "code",
   "execution_count": 47,
   "id": "ba25c15e",
   "metadata": {},
   "outputs": [
    {
     "name": "stdout",
     "output_type": "stream",
     "text": [
      "Enter the number of rows4\n",
      "*\n",
      "**\n",
      "***\n",
      "****\n",
      "***\n",
      "**\n",
      "*\n",
      "\n"
     ]
    }
   ],
   "source": [
    "#Python program to construct the following pattern, using a nested for loop.\n",
    "n = int(input(\"Enter the number of rows\"))\n",
    "for i in range(0,n):\n",
    "      for j in range(0, i + 1):   \n",
    "            print(\"*\", end=\"\")       \n",
    "      print()\n",
    "for i in range(n,0,-1):\n",
    "    for j in range(0,i-1):\n",
    "        print(\"*\",end='')\n",
    "    print()\n",
    "      \n",
    "\n"
   ]
  },
  {
   "cell_type": "code",
   "execution_count": 5,
   "id": "945aebf5",
   "metadata": {},
   "outputs": [
    {
     "name": "stdout",
     "output_type": "stream",
     "text": [
      "Enter the string value: assembly\n",
      "a = 1\n",
      "s = 2\n",
      "e = 1\n",
      "m = 1\n",
      "b = 1\n",
      "l = 1\n",
      "y = 1\n"
     ]
    }
   ],
   "source": [
    "##PRACTICE EXERCISES ON PYTHON BASICS -2.\n",
    "# Python program to accept a string value from the user and  display the count of each character in that string\n",
    "str1 = input (\"Enter the string value: \")\n",
    "d = dict()\n",
    "for c in str1:\n",
    "    if c in d:\n",
    "        d[c] = d[c] + 1\n",
    "    else:\n",
    "        d[c] = 1\n",
    "dict(d)\n",
    "for key in d:\n",
    "    print(key,\"=\",d[key])\n",
    "\n"
   ]
  },
  {
   "cell_type": "code",
   "execution_count": 15,
   "id": "f0096c0b",
   "metadata": {},
   "outputs": [
    {
     "name": "stdout",
     "output_type": "stream",
     "text": [
      "Enter number1: 34\n",
      "Enter number2: 12\n",
      "Enter number3: 7\n",
      "34.0\n"
     ]
    }
   ],
   "source": [
    "#Python function to find the maximum of three numbers Sample input: 34,12,7 Sample output: 34\n",
    "num1 = float(input(\"Enter number1: \"))\n",
    "num2 = float(input(\"Enter number2: \"))\n",
    "num3 = float(input(\"Enter number3: \"))\n",
    "\n",
    "def max_of_two( num1, num2 ):\n",
    "    if num1 > num2:\n",
    "        return num1\n",
    "    return num2\n",
    "def max_of_three( x, y, z ):\n",
    "    return max_of_two( x, max_of_two( y, z ) )\n",
    "print(max_of_three(num1, num2, num3))"
   ]
  },
  {
   "cell_type": "code",
   "execution_count": 16,
   "id": "6f502381",
   "metadata": {},
   "outputs": [
    {
     "name": "stdout",
     "output_type": "stream",
     "text": [
      "Enter base: 2\n",
      "Enter exponential value: 3\n",
      "Output : 8\n"
     ]
    }
   ],
   "source": [
    "#Python function called exponent(base,exp) that returns an integer value of base raises to the power of exp\n",
    "def power(base,exp):\n",
    "    if(exp==1):\n",
    "        return(base)\n",
    "    if(exp!=1):\n",
    "        return(base*power(base,exp-1))\n",
    "base=int(input(\"Enter base: \"))\n",
    "exp=int(input(\"Enter exponential value: \"))\n",
    "print(\"Output :\",power(base,exp))"
   ]
  },
  {
   "cell_type": "code",
   "execution_count": 19,
   "id": "9da7f32a",
   "metadata": {},
   "outputs": [
    {
     "name": "stdout",
     "output_type": "stream",
     "text": [
      "Enter a positive integer: 4\n",
      "36\n"
     ]
    }
   ],
   "source": [
    "#Python function that takes a positive integer and returns the sum of the cube of all the positive integers smaller than the specified number\n",
    "\n",
    "def sum_cube(n):\n",
    "    result = 0\n",
    "    if n > 0:\n",
    "        for i in range(n):\n",
    "            result += i * i * i\n",
    "        return result\n",
    "    elif n <= 0:\n",
    "        raise ValueError(\"n should be positive\")\n",
    "num=int(input(\"Enter a positive integer: \"))\n",
    "print(sum_cube(num))\n",
    "\n",
    "\n"
   ]
  },
  {
   "cell_type": "code",
   "execution_count": 34,
   "id": "266bdf59",
   "metadata": {},
   "outputs": [
    {
     "name": "stdout",
     "output_type": "stream",
     "text": [
      "Enter the last range of numbers for FizzBuzz Problem :10\n",
      "1\n",
      "Fizz\n",
      "3\n",
      "Fizz\n",
      "Buzz\n",
      "Fizz\n",
      "7\n",
      "Fizz\n",
      "9\n",
      "FizzBuzz\n"
     ]
    }
   ],
   "source": [
    "#Python program which iterates from 1 to 10.\n",
    "#num1=int(input(\"Enter a positive integer range: \"))\n",
    "    \n",
    "\n",
    "n=int(input(\"Enter the last range of numbers for FizzBuzz Problem :\"))\n",
    "for i in range(1,n+1):\n",
    "    if i % 2 == 0 and i % 5 == 0:\n",
    "        print(\"FizzBuzz\")\n",
    "    elif i % 2 == 0:\n",
    "        print(\"Fizz\")\n",
    "    elif i % 5 == 0:\n",
    "        print(\"Buzz\")\n",
    "    else:\n",
    "        print(i)\n",
    "\n",
    "\n",
    "\n"
   ]
  },
  {
   "cell_type": "code",
   "execution_count": 2,
   "id": "3cdfdf5d",
   "metadata": {},
   "outputs": [
    {
     "name": "stdout",
     "output_type": "stream",
     "text": [
      "Enter element of list 2\n",
      "Enter element of list 3\n",
      "Enter element of list 4\n",
      "Enter element of list 2\n",
      "Enter element of list 5\n",
      "Enter element of list 2\n",
      "Given Input:\n",
      " [2, 3, 4, 2, 5, 2]\n",
      "Number with highest frequency in List:\n",
      " 2\n"
     ]
    }
   ],
   "source": [
    "#a Python program to find the most frequent item in a list of numbers\n",
    "from statistics import mode\n",
    "origli=[]\n",
    "cnt=6\n",
    "for i in range(0,6):\n",
    "    e=int(input(\"Enter element of list \"))\n",
    "    origli.append(e)\n",
    "\n",
    "print(\"Given Input:\\n\",origli)\n",
    "res=mode(origli)\n",
    "print(\"Number with highest frequency in List:\\n\",res)\n"
   ]
  },
  {
   "cell_type": "code",
   "execution_count": 6,
   "id": "aeb3c90d",
   "metadata": {},
   "outputs": [
    {
     "name": "stdout",
     "output_type": "stream",
     "text": [
      "Enter element of list 2\n",
      "Enter element of list 1\n",
      "Enter element of list 3\n",
      "Enter element of list 1\n",
      "Sum of Squares in List 15\n"
     ]
    }
   ],
   "source": [
    "#Python program to find the sum of squares of the numbers in a list\n",
    "origli=[]\n",
    "cnt=4\n",
    "for i in range(0,4):\n",
    "    e=int(input(\"Enter element of list \"))\n",
    "    origli.append(e)\n",
    "    \n",
    "sumsqList=0\n",
    "\n",
    "for i in origli:\n",
    "    sumsqList+=i*i;\n",
    "print(\"Sum of Squares in List\",sumsqList)\n",
    "\n"
   ]
  },
  {
   "cell_type": "code",
   "execution_count": 2,
   "id": "821f69b1",
   "metadata": {},
   "outputs": [
    {
     "name": "stdout",
     "output_type": "stream",
     "text": [
      "Enter the first range of number for odd/even :1\n",
      "Enter the second range of number for odd/even :15\n",
      "1 -odd\n",
      "2 -even\n",
      "3 -odd\n",
      "4 -even\n",
      "5 -odd\n",
      "6 -even\n",
      "7 -odd\n",
      "8 -even\n",
      "9 -odd\n",
      "10 -even\n",
      "11 -odd\n",
      "12 -even\n",
      "13 -odd\n",
      "14 -even\n",
      "15 -odd\n"
     ]
    }
   ],
   "source": [
    "#Python program using for loop that will iterate from 1 to 15.\n",
    "n1=int(input(\"Enter the first range of number for odd/even :\"))\n",
    "n2=int(input(\"Enter the second range of number for odd/even :\"))\n",
    "for i in range(n1,n2+1):\n",
    "    if i % 2 == 0:\n",
    "        print(i,\"-even\")\n",
    "    else:\n",
    "         print(i,\"-odd\")"
   ]
  },
  {
   "cell_type": "code",
   "execution_count": 4,
   "id": "7dec8aed",
   "metadata": {},
   "outputs": [
    {
     "name": "stdout",
     "output_type": "stream",
     "text": [
      "Enter temperature in fahrenheit: 41\n",
      " Temperature in celsius is =5.0\n",
      "Enter temperature  in degree Celsius: 5\n",
      " Temperature in Farenheit is =41.0\n"
     ]
    }
   ],
   "source": [
    "#Python program to convert temperatures to and from Celsius Fahrenheit.\n",
    "fahrenheit = float(input(\"Enter temperature in fahrenheit: \"))\n",
    "celsius = (fahrenheit - 32)/1.8\n",
    "print(\" Temperature in celsius is =\" + str(celsius ))\n",
    "\n",
    "celsius1 = float(input(\"Enter temperature  in degree Celsius: \" ))  \n",
    "  \n",
    "fahrenheit1 = (celsius1 * 1.8) + 32  \n",
    "    \n",
    "print(\" Temperature in Farenheit is =\" + str(fahrenheit1 ))\n"
   ]
  },
  {
   "cell_type": "code",
   "execution_count": 15,
   "id": "48d66181",
   "metadata": {},
   "outputs": [
    {
     "name": "stdout",
     "output_type": "stream",
     "text": [
      "Enter a positive integer: 7\n",
      "Factorial of the number is  5040\n"
     ]
    }
   ],
   "source": [
    "#Python function to calculate the factorial of a number\n",
    "def calfactorial(n):\n",
    "    result = 1\n",
    "    if n > 0:\n",
    "        for i in range(1,n):\n",
    "            result += result * i\n",
    "        return result\n",
    "    elif n <= 0:\n",
    "        raise ValueError(\"n should be positive\")\n",
    "num=int(input(\"Enter a positive integer: \"))\n",
    "print(\"Factorial of the number is \",calfactorial(num))\n"
   ]
  },
  {
   "cell_type": "code",
   "execution_count": null,
   "id": "dd802d23",
   "metadata": {},
   "outputs": [],
   "source": []
  },
  {
   "cell_type": "code",
   "execution_count": null,
   "id": "4cbcb9ed",
   "metadata": {},
   "outputs": [],
   "source": []
  }
 ],
 "metadata": {
  "kernelspec": {
   "display_name": "Python 3 (ipykernel)",
   "language": "python",
   "name": "python3"
  },
  "language_info": {
   "codemirror_mode": {
    "name": "ipython",
    "version": 3
   },
   "file_extension": ".py",
   "mimetype": "text/x-python",
   "name": "python",
   "nbconvert_exporter": "python",
   "pygments_lexer": "ipython3",
   "version": "3.11.3"
  },
  "toc-showcode": true
 },
 "nbformat": 4,
 "nbformat_minor": 5
}
