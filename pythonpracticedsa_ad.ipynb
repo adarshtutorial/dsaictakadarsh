{
 "cells": [
  {
   "cell_type": "code",
   "execution_count": 11,
   "id": "0b58b296-2282-4c12-a305-1a47fb7c335a",
   "metadata": {
    "tags": []
   },
   "outputs": [
    {
     "name": "stdin",
     "output_type": "stream",
     "text": [
      "Please enter the radius of the given circle:  3\n"
     ]
    },
    {
     "name": "stdout",
     "output_type": "stream",
     "text": [
      " The area of the given circle with radius 3.0 is: 28.274333882308138\n"
     ]
    }
   ],
   "source": [
    "#1Python program which accepts the radius of a circle from the user and compute the area.\n",
    "import math \n",
    "Radius = float (input (\"Please enter the radius of the given circle: \"))  \n",
    "area_of_the_circle = math.pi* Radius * Radius  \n",
    "print (\" The area of the given circle with radius \" + str(Radius) + \" is:\", area_of_the_circle)  \n",
    "\n"
   ]
  },
  {
   "cell_type": "code",
   "execution_count": 4,
   "id": "f43e7fa7-11de-48c0-a222-0b1de04ea9dc",
   "metadata": {
    "tags": []
   },
   "outputs": [
    {
     "name": "stdout",
     "output_type": "stream",
     "text": [
      "Enter the nameAdarsh\n",
      "Enter the roll number1\n",
      "Enter the mark49\n",
      "Name:Adarsh\n",
      "Roll no:1\n",
      "Mark:49\n"
     ]
    }
   ],
   "source": [
    "#2Python Program to accept the details of a student like name, rollnumber and mark and display it.\n",
    "name=input(\"Enter the name\")\n",
    "rno=int(input(\"Enter the roll number\"))\n",
    "mark=int(input(\"Enter the mark\"))\n",
    "print(\"Name:\"+str(name))\n",
    "#print(\"\\n\")\n",
    "print(\"Roll no:\"+str(rno))\n",
    "#print(\"\\n\")\n",
    "print(\"Mark:\"+str(mark))\n",
    "\n",
    "\n"
   ]
  },
  {
   "cell_type": "code",
   "execution_count": 8,
   "id": "541452e0-8955-4059-990c-8abe65c8d276",
   "metadata": {},
   "outputs": [
    {
     "name": "stdout",
     "output_type": "stream",
     "text": [
      "Enter element of list 12\n",
      "Enter element of list 3\n",
      "Enter element of list 47\n",
      "Enter element of list 10\n",
      "47  is the largest number\n"
     ]
    }
   ],
   "source": [
    "#Python program to get the largest number from a list\n",
    "li=[]\n",
    "cnt=4\n",
    "for i in range(0,4):\n",
    "    e=int(input(\"Enter element of list \"))\n",
    "    li.append(e)\n",
    "li.sort()\n",
    "print(li[-1],\" is the largest number\")"
   ]
  },
  {
   "cell_type": "code",
   "execution_count": 11,
   "id": "8bb2e125-ab9d-4616-bd71-a2a70d11aec7",
   "metadata": {},
   "outputs": [
    {
     "name": "stdout",
     "output_type": "stream",
     "text": [
      "enter the range 10\n",
      "Current Number 0 Previous Number 0 Sum:0\n",
      "Current Number 1 Previous Number 0 Sum:1\n",
      "Current Number 2 Previous Number 1 Sum:3\n",
      "Current Number 3 Previous Number 2 Sum:5\n",
      "Current Number 4 Previous Number 3 Sum:7\n",
      "Current Number 5 Previous Number 4 Sum:9\n",
      "Current Number 6 Previous Number 5 Sum:11\n",
      "Current Number 7 Previous Number 6 Sum:13\n",
      "Current Number 8 Previous Number 7 Sum:15\n",
      "Current Number 9 Previous Number 8 Sum:17\n"
     ]
    }
   ],
   "source": [
    "#Python program to iterate from start number to the end number and print the sum of the current number and previous number.\n",
    "num=int(input(\"enter the range \"))\n",
    "previous_num=0\n",
    "for i in range(num):\n",
    "    sum = previous_num + i\n",
    "    print(\"Current Number \"+str(i)+\" Previous Number \"+str(previous_num)+\" Sum:\"+str(sum))\n",
    "    previous_num = i\n"
   ]
  },
  {
   "cell_type": "code",
   "execution_count": 15,
   "id": "36185738",
   "metadata": {},
   "outputs": [
    {
     "name": "stdout",
     "output_type": "stream",
     "text": [
      "Enter element of list 10\n",
      "Enter element of list 20\n",
      "Enter element of list 33\n",
      "Enter element of list 46\n",
      "Enter element of list 55\n",
      "[10, 20, 33, 46, 55]\n",
      "[10, 20, 55]\n"
     ]
    }
   ],
   "source": [
    "#Python program to print only those numbers which are divisible of 5.\n",
    "li=[]\n",
    "inputli=[]\n",
    "cnt=5\n",
    "for i in range(0,cnt):\n",
    "    e=int(input(\"Enter element of list \"))\n",
    "    inputli.append(e)\n",
    "    if (e%5==0):\n",
    "        li.append(e)\n",
    "\n",
    "print(inputli)\n",
    "print(li)\n"
   ]
  },
  {
   "cell_type": "code",
   "execution_count": 20,
   "id": "9c1e4ec1",
   "metadata": {},
   "outputs": [
    {
     "name": "stdout",
     "output_type": "stream",
     "text": [
      "Enter a number: 3\n",
      "3 is a prime number\n"
     ]
    }
   ],
   "source": [
    "#Python program to check whether a number is prime or not.\n",
    "num = int(input(\"Enter a number: \"))\n",
    "\n",
    "\n",
    "flag = False\n",
    "\n",
    "if num == 1:\n",
    "    print(num, \"is not a prime number\")\n",
    "elif num > 1:\n",
    "    for i in range(2, num):\n",
    "        if (num % i) == 0:\n",
    "            flag = True\n",
    "            break\n",
    "\n",
    "    if flag:\n",
    "        print(num, \"is not a prime number\")\n",
    "    else:\n",
    "        print(num, \"is a prime number\")"
   ]
  },
  {
   "cell_type": "code",
   "execution_count": 28,
   "id": "e6e771b1",
   "metadata": {},
   "outputs": [
    {
     "name": "stdout",
     "output_type": "stream",
     "text": [
      "Enter element of list 10\n",
      "Enter element of list 40\n",
      "Enter element of list 30\n",
      "Enter element of list 70\n",
      "Sample Input : [10, 40, 30, 70]\n",
      "Sample Output :  [70, 30, 40, 10]\n"
     ]
    }
   ],
   "source": [
    "#Python program to reverse a list using for loop.\n",
    "origli=[]\n",
    "cnt=4\n",
    "for i in range(0,4):\n",
    "    e=int(input(\"Enter element of list \"))\n",
    "    origli.append(e)\n",
    "\n",
    "print(\"Sample Input :\",origli)\n",
    "reversed_list = []\n",
    "for value in origli:\n",
    "  reversed_list.insert(0,value)\n",
    "print(\"Sample Output : \", reversed_list )"
   ]
  },
  {
   "cell_type": "code",
   "execution_count": 42,
   "id": "f535b489",
   "metadata": {},
   "outputs": [
    {
     "name": "stdout",
     "output_type": "stream",
     "text": [
      "Enter the number of rows4\n",
      "*\n",
      "**\n",
      "***\n",
      "****\n"
     ]
    }
   ],
   "source": [
    "#Python program to print the following pattern\n",
    "\n",
    "n = int(input(\"Enter the number of rows\"))\n",
    "for i in range(0,n):\n",
    "      for j in range(0, i + 1):   \n",
    "            print(\"*\", end=\"\")       \n",
    "      print()  \n",
    "    \n"
   ]
  },
  {
   "cell_type": "code",
   "execution_count": 44,
   "id": "9941c8cc",
   "metadata": {},
   "outputs": [
    {
     "name": "stdout",
     "output_type": "stream",
     "text": [
      "Enter number1: 34\n",
      "Enter number2: 12\n",
      "Enter number3: 7\n",
      "Sample input : [34.0, 12.0, 7.0]\n",
      "Largest is :  34.0\n"
     ]
    }
   ],
   "source": [
    "#Python program to find the maximum of three numbers\n",
    "num1 = float(input(\"Enter number1: \"))\n",
    "num2 = float(input(\"Enter number2: \"))\n",
    "num3 = float(input(\"Enter number3: \"))\n",
    "\n",
    "li=[num1,num2,num3]\n",
    "print('Sample input :',li)\n",
    "if (num1 >= num2) and (num1 >= num3):\n",
    "   largest = num1\n",
    "elif (num2 >= num1) and (num2 >= num3):\n",
    "   largest = num2\n",
    "else:\n",
    "   largest = num3\n",
    "\n",
    "print(\"Largest is : \", largest)\n"
   ]
  },
  {
   "cell_type": "code",
   "execution_count": null,
   "id": "6aaa45fa",
   "metadata": {},
   "outputs": [],
   "source": []
  },
  {
   "cell_type": "code",
   "execution_count": null,
   "id": "2d7b114c",
   "metadata": {},
   "outputs": [],
   "source": []
  }
 ],
 "metadata": {
  "kernelspec": {
   "display_name": "Python 3 (ipykernel)",
   "language": "python",
   "name": "python3"
  },
  "language_info": {
   "codemirror_mode": {
    "name": "ipython",
    "version": 3
   },
   "file_extension": ".py",
   "mimetype": "text/x-python",
   "name": "python",
   "nbconvert_exporter": "python",
   "pygments_lexer": "ipython3",
   "version": "3.11.3"
  },
  "toc-showcode": true
 },
 "nbformat": 4,
 "nbformat_minor": 5
}
