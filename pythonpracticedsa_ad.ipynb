{
 "cells": [
  {
   "cell_type": "code",
   "execution_count": 11,
   "id": "0b58b296-2282-4c12-a305-1a47fb7c335a",
   "metadata": {
    "tags": []
   },
   "outputs": [
    {
     "name": "stdin",
     "output_type": "stream",
     "text": [
      "Please enter the radius of the given circle:  3\n"
     ]
    },
    {
     "name": "stdout",
     "output_type": "stream",
     "text": [
      " The area of the given circle with radius 3.0 is: 28.274333882308138\n"
     ]
    }
   ],
   "source": [
    "#1Python program which accepts the radius of a circle from the user and compute the area.\n",
    "import math \n",
    "Radius = float (input (\"Please enter the radius of the given circle: \"))  \n",
    "area_of_the_circle = math.pi* Radius * Radius  \n",
    "print (\" The area of the given circle with radius \" + str(Radius) + \" is:\", area_of_the_circle)  \n",
    "\n"
   ]
  },
  {
   "cell_type": "code",
   "execution_count": 4,
   "id": "f43e7fa7-11de-48c0-a222-0b1de04ea9dc",
   "metadata": {
    "tags": []
   },
   "outputs": [
    {
     "name": "stdout",
     "output_type": "stream",
     "text": [
      "Enter the nameAdarsh\n",
      "Enter the roll number1\n",
      "Enter the mark49\n",
      "Name:Adarsh\n",
      "Roll no:1\n",
      "Mark:49\n"
     ]
    }
   ],
   "source": [
    "#2Python Program to accept the details of a student like name, rollnumber and mark and display it.\n",
    "name=input(\"Enter the name\")\n",
    "rno=int(input(\"Enter the roll number\"))\n",
    "mark=int(input(\"Enter the mark\"))\n",
    "print(\"Name:\"+str(name))\n",
    "#print(\"\\n\")\n",
    "print(\"Roll no:\"+str(rno))\n",
    "#print(\"\\n\")\n",
    "print(\"Mark:\"+str(mark))\n",
    "\n",
    "\n"
   ]
  },
  {
   "cell_type": "code",
   "execution_count": null,
   "id": "541452e0-8955-4059-990c-8abe65c8d276",
   "metadata": {},
   "outputs": [],
   "source": []
  },
  {
   "cell_type": "code",
   "execution_count": null,
   "id": "8bb2e125-ab9d-4616-bd71-a2a70d11aec7",
   "metadata": {},
   "outputs": [],
   "source": []
  }
 ],
 "metadata": {
  "kernelspec": {
   "display_name": "Python 3 (ipykernel)",
   "language": "python",
   "name": "python3"
  },
  "language_info": {
   "codemirror_mode": {
    "name": "ipython",
    "version": 3
   },
   "file_extension": ".py",
   "mimetype": "text/x-python",
   "name": "python",
   "nbconvert_exporter": "python",
   "pygments_lexer": "ipython3",
   "version": "3.11.3"
  },
  "toc-showcode": true
 },
 "nbformat": 4,
 "nbformat_minor": 5
}
